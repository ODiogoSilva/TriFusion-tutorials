{
 "cells": [
  {
   "cell_type": "markdown",
   "metadata": {},
   "source": [
    "<img style=\"float: left; margin-right:20px;\" src=\"https://raw.githubusercontent.com/ODiogoSilva/TriFusion-tutorials/master/tutorials/images/trifusion-icon-64.png\"><p style=\"font-weight:bold; font-size:30px; line-height:23px; margin-bottom:50px; color:#37abc8;\">The three ways to load data into TriFusion.</p>\n",
    "\n",
    "TriFusion accepts proteome files in Fasta format and multiple sequence alignment files in a variety of formats (Fasta, Nexus, Phylip, Stockholm, PyRAD loci). In either case, data files can be loaded into TriFusion using one of three methods:\n",
    "\n",
    "- [Filechooser](#Filechooser)\n",
    "- [Drag and Drop](#Drag-and-Drop)\n",
    "- [Via terminal](#Via-terminal)\n",
    "\n",
    "The alignment files required for this tutorial can be downloaded [here](https://github.com/ODiogoSilva/TriFusion-tutorials/raw/master/tutorials/Datasets/Process/Small_alignment_dataset/small_alignments.zip).\n",
    "\n",
    "# Filechooser\n",
    "\n",
    "To load data files through the main filechooser, navigate to _Menu_ > _Open/View Data_ and click the __Open file(s)__ button.\n",
    "\n",
    "<img width=\"90%\" src=\"https://raw.githubusercontent.com/ODiogoSilva/TriFusion-tutorials/master/tutorials/images/process_load_files.png\">\n",
    "\n",
    "This will open the main filechooser.\n",
    "- A list of bookmarks is displayed on the left, and any directory can be added to this list by opening it and clicking the __+__ button.\n",
    "- On the top of the screen, you can choose the input data type (whether you are loading proteome or alignment files)\n",
    "- Below you can find the path of the current directory and several utility buttons to navigate the filechooser.\n",
    "- At the bottom of the filechooser, there is a text field that searches folders and files in the current directory. There is also a drop down menu that filters files according to their extension.\n",
    "\n",
    "<img width=\"90%\" src=\"https://raw.githubusercontent.com/ODiogoSilva/TriFusion-tutorials/master/tutorials/images/process_main_filechooser.png\">\n",
    "\n",
    "Navigate through the filechooser by double clicking directory or clicking on the \"__>__\" symbol until you find the desired directory. Multiple files can be selected by pressing either the _Control_ or _Shift_ keys. After completing you selection, click the __Load & go back__ button to load the data and go back to the previous screen. If you wish to load additional data, click the __Load selection__ button, which will load the data but remain in the filechooser screen. In the example below, 7 files have been selected and are ready to be loaded.\n",
    "\n",
    "<img width=\"90%\" src=\"https://raw.githubusercontent.com/ODiogoSilva/TriFusion-tutorials/master/tutorials/images/process_main_filechooser_selection.png\">\n",
    "\n",
    "__NOTE:__ TriFusion also supports the selection of one or more directories instead of files. When directories are selected, all files contained in those directories will be loaded into TriFusion. If you are worried that not all files in a directory are alignments/proteomes, do not worry. TriFusion will successfully load alignments/proteomes and ignore non compliant files. However, make sure that all files are of the same type. Mixing nucleotide and protein files is currently not supported and will issue an error without loading any files.\n",
    "\n",
    "# Drag and Drop\n",
    "\n",
    "Data files can be provided to TriFusion's window directly from your File Manager. Here, navigate in you operating system's file manager a select the desired data files.\n",
    "\n",
    "<img width=\"90%\" src=\"https://raw.githubusercontent.com/ODiogoSilva/TriFusion-tutorials/master/tutorials/images/process_dragndrop_filemanager.png\">\n",
    "\n",
    "After selecting the files drag them into TriFusion's window. This will display informing the 7 files will be loaded into TriFusion and asking whether the files represent alignment or proteome files. In this case, the data files correspond to alignments.\n",
    "\n",
    "<img width=\"90%\" src=\"https://raw.githubusercontent.com/ODiogoSilva/TriFusion-tutorials/master/tutorials/images/process_dropped.png\">\n",
    "\n",
    "After clicking the __Alignment__ button, the selected files will be loaded normally into TriFusion.\n",
    "\n",
    "<img width=\"90%\" src=\"https://raw.githubusercontent.com/ODiogoSilva/TriFusion-tutorials/master/tutorials/images/process_dragndrop_success.png\">\n",
    "\n",
    "# Via terminal\n",
    "\n",
    "For terminal lovers (<3) files can be loaded automatically when execution the TriFusion application. In a general way, if the TriFusion executable is in your $PATH environmental variable, you can write it in the terminal and then provide  any number of files."
   ]
  },
  {
   "cell_type": "code",
   "execution_count": null,
   "metadata": {
    "collapsed": true
   },
   "outputs": [],
   "source": [
    "TriFusion file1.fas file2.fas file3.fas"
   ]
  },
  {
   "cell_type": "markdown",
   "metadata": {},
   "source": [
    "<img width=\"90%\" src=\"https://raw.githubusercontent.com/ODiogoSilva/TriFusion-tutorials/master/tutorials/images/process_terminal_load.png\">\n",
    "\n",
    "This will open TriFusion and automatically open a popup informing that 7 files will be loaded into TriFusion and asking whether the files represent alignment or proteome files. In this case, the data files correspond to alignments. \n",
    "\n",
    "<img width=\"90%\" src=\"https://raw.githubusercontent.com/ODiogoSilva/TriFusion-tutorials/master/tutorials/images/process_dropped.png\">\n",
    "\n",
    "Once the sequence type is selected, the selected files will be loaded normally into TriFusion.\n",
    "\n",
    "<img width=\"90%\" src=\"https://raw.githubusercontent.com/ODiogoSilva/TriFusion-tutorials/master/tutorials/images/process_dragndrop_success.png\">"
   ]
  }
 ],
 "metadata": {
  "kernelspec": {
   "display_name": "Python 3",
   "language": "python",
   "name": "python3"
  },
  "language_info": {
   "codemirror_mode": {
    "name": "ipython",
    "version": 3
   },
   "file_extension": ".py",
   "mimetype": "text/x-python",
   "name": "python",
   "nbconvert_exporter": "python",
   "pygments_lexer": "ipython3",
   "version": "3.5.2"
  }
 },
 "nbformat": 4,
 "nbformat_minor": 1
}
