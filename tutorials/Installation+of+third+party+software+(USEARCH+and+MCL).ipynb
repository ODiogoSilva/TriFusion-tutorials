{
 "cells": [
  {
   "cell_type": "markdown",
   "metadata": {},
   "source": [
    "<img style=\"float: left; margin-right:20px;\" src=\"/home/diogo/Diogo/Science/Scripts/packages/TriFusion/trifusion/data/backgrounds/trifusion-icon-64.png\"><p style=\"font-weight:bold; font-size:22px; color:#37abc8; margin-bottom:50px;\">Installation of third party software (USEARCH and MCL)</p>\n",
    "\n",
    "The [USEARCH](http://www.drive5.com/usearch/) and [MCL](http://micans.org/mcl/) programs are required to perform TriFusion's __Orthology Search__ operation. While MCL is already distributed with TriFusion and should work out of the box, the licensing of USEARCH does not allow it to be bundled. However, everything can be up and running with just a few simple steps.\n",
    "\n",
    "![USEARCH warning]()"
   ]
  }
 ],
 "metadata": {
  "kernelspec": {
   "display_name": "Python 3",
   "language": "python",
   "name": "python3"
  },
  "language_info": {
   "codemirror_mode": {
    "name": "ipython",
    "version": 3
   },
   "file_extension": ".py",
   "mimetype": "text/x-python",
   "name": "python",
   "nbconvert_exporter": "python",
   "pygments_lexer": "ipython3",
   "version": "3.5.2"
  }
 },
 "nbformat": 4,
 "nbformat_minor": 1
}
