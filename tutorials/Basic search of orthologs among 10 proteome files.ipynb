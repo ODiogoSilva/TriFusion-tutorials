{
 "cells": [
  {
   "cell_type": "markdown",
   "metadata": {},
   "source": [
    "<img style=\"float: left; margin-right:20px;\" src=\"https://raw.githubusercontent.com/ODiogoSilva/TriFusion-tutorials/master/tutorials/images/trifusion-icon-64.png\"><p style=\"font-weight:bold; font-size:22px; color:#37abc8; margin-bottom:50px;\">Basic search of orthologs among 10 proteome files.</p>\n",
    "\n",
    "Here, the basic search of shared orthologs across 10 fungal genomes will be performed. Before following this tutrial, make sure that both USEARCH and MCL are correctly installed on you system (See [Installation of third party software (USEARCH and MCL)](http://odiogosilva.github.io/TriFusion/)).\n",
    "\n",
    "# Load data\n",
    "\n",
    "As already covered in a separate tutorial (see [The three ways to load data into TriFusion](http://nbviewer.jupyter.org/github/ODiogoSilva/TriFusion-tutorials/blob/master/tutorials/The%20three%20ways%20to%20load%20data%20into%20TriFusion.ipynb)), proteome data can be loaded into TriFusion in three different ways. Here we will use the filechooser to load 10 proteome files. \n",
    "\n",
    "Navigate to _Menu_ > _Open/View Data_ and click the __Open file(s)__ button, or simply use _Ctrl + o_. This will open the main filechooser. Set the _Input data type_ at the top of the screen as __Proteome__. Then, go to the directory containing the proteome files, select them and click __Load & go back__.\n",
    "\n",
    "<img width=\"90%\" src=\"https://raw.githubusercontent.com/ODiogoSilva/TriFusion-tutorials/master/tutorials/images/orto_search_filechooser.png\">\n",
    "\n",
    "If the files are correctly formatted, they should be successfully loaded and appear in the _Open/View Data_ sidepanel under the _Files_ tab.\n",
    "\n",
    "<img width=\"90%\" src=\"https://raw.githubusercontent.com/ODiogoSilva/TriFusion-tutorials/master/tutorials/images/orto_search_dataloaded.png\">\n",
    "\n",
    "Now let's set the general options for the orthology search by navigating to the __Orthology__ screen. There are three general options:\n",
    "\n",
    "- _Threads_: Sets the maximum number of CPU's that will be used by USEARCH during the most computationally intensive phase of the search. TriFusion automatically detects the number of CPU's on you system at sets it as the maximum value available. In this example, I'll choose 4 CPU's, which is the maximum of my system.\n",
    "\n",
    "<img width=\"90%\" src=\"https://raw.githubusercontent.com/ODiogoSilva/TriFusion-tutorials/master/tutorials/images/orto_search_cpus.png\">\n",
    "\n",
    "- _Ortholog filters_: Sets the filters that will be applied to the orthologs at the end of the search operation. Here you can set the maximum number of gene copies for each ortholog group, and the minimum number of species that must be contained in an ortholog group. __Note that these filters are not permanent. They will be used to export the sequence files at the end of the orthology search operation, but they can still be changed after the end of the operation in the Explore section__. Here, I'll set a maximum number of gene copies of 1 (only single copy genes) and the minimum number of taxa to 5 (50%).\n",
    "\n",
    "<img width=\"90%\" src=\"https://raw.githubusercontent.com/ODiogoSilva/TriFusion-tutorials/master/tutorials/images/orto_search_filters.png\">\n",
    "\n",
    "- _Output directory_: Sets the directory where all output files (intermediary and final sequence files) will be generated. I'll create a directory named <i>my_orto_search</i> on my home directory and set it.\n",
    "\n",
    "<img width=\"90%\" src=\"https://raw.githubusercontent.com/ODiogoSilva/TriFusion-tutorials/master/tutorials/images/orto_search_outputdir.png\">\n",
    "\n",
    "Setting these options would be sufficient to start our search operation. However, I'm still interested in experimenting multiple inflation values to see it's impact on the final number of orthologs. To set multiple inflation values, click on the __Show additional options__ button, then click on the _MCL_ tab, and finally on the button of the _Inflation_ option. Here you can choose multiple pre-defined inflation values. I'll select three: 2, 3 and 4.\n",
    "\n",
    "<img width=\"90%\" src=\"https://raw.githubusercontent.com/ODiogoSilva/TriFusion-tutorials/master/tutorials/images/orto_search_inflation.png\">\n",
    "\n",
    "Now we're all set to start our orthology search operation. Click the __Search Orthologs__ button at the bottom of the screen to display the execution summary dialog. Here you can see that 10 files will be processed, the values of the two ortholog filters, the e-value threshold for the USEARCH operation, the selected MCL inflation values and the number of CPU threads for the USEARCH phase. Click on the __Execute__ button to start the search. \n",
    "\n",
    "<img width=\"90%\" src=\"https://raw.githubusercontent.com/ODiogoSilva/TriFusion-tutorials/master/tutorials/images/orto_search_summary.png\">\n",
    "\n",
    "The execution of the search operation may take a considerable amount of time, depending on the number of proteomes and their corresponding size. In my system (Intel i5-3317U @ 1.70Ghz, 4Gb RAM, HD4000) the search of the 10 proteome files took about 50 minutes.\n",
    "\n",
    "At the end of the search operation, a report dialog will appear with the search results for each inflation value.\n",
    "\n",
    "<img width=\"90%\" src=\"https://raw.githubusercontent.com/ODiogoSilva/TriFusion-tutorials/master/tutorials/images/orto_search_report.png\">\n",
    "\n",
    "You can use the top arrow buttons to cycle through all selected inflation values. For each inflation value the number of total and filtered orthologs appear in graphical format. The orthologs that pass the maximum gene and minimum species filters appear individually, so that you can assess the impact of each filter. At the bottom, in green, the final number of orthologs that passed both filters is shown.\n",
    "\n",
    "After performing the search operation, the results will be stored in the specified output directory. However, if you wish to further explore your new data, click the __Go to Results__ button, to go to the _Explore_ section of the __Orthology__ module (See next tutorial: [REF]). "
   ]
  }
 ],
 "metadata": {
  "kernelspec": {
   "display_name": "Python 3",
   "language": "python",
   "name": "python3"
  },
  "language_info": {
   "codemirror_mode": {
    "name": "ipython",
    "version": 3
   },
   "file_extension": ".py",
   "mimetype": "text/x-python",
   "name": "python",
   "nbconvert_exporter": "python",
   "pygments_lexer": "ipython3",
   "version": "3.5.2"
  }
 },
 "nbformat": 4,
 "nbformat_minor": 1
}
