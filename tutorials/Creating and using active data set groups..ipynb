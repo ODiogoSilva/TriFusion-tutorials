{
 "cells": [
  {
   "cell_type": "code",
   "execution_count": 2,
   "metadata": {
    "collapsed": false
   },
   "outputs": [
    {
     "data": {
      "text/html": [
       "<script>\n",
       "code_show=true; \n",
       "function code_toggle() {\n",
       " if (code_show){\n",
       " $('div.input').hide();\n",
       " } else {\n",
       " $('div.input').show();\n",
       " }\n",
       " code_show = !code_show\n",
       "} \n",
       "$( document ).ready(code_toggle);\n",
       "</script>\n",
       "<form action=\"javascript:code_toggle()\"><input type=\"submit\" value=\"Click here to toggle on/off the raw code.\"></form>"
      ],
      "text/plain": [
       "<IPython.core.display.HTML object>"
      ]
     },
     "execution_count": 2,
     "metadata": {},
     "output_type": "execute_result"
    }
   ],
   "source": [
    "from IPython.display import HTML\n",
    "\n",
    "HTML('''<script>\n",
    "code_show=true; \n",
    "function code_toggle() {\n",
    " if (code_show){\n",
    " $('div.input').hide();\n",
    " } else {\n",
    " $('div.input').show();\n",
    " }\n",
    " code_show = !code_show\n",
    "} \n",
    "$( document ).ready(code_toggle);\n",
    "</script>\n",
    "<form action=\"javascript:code_toggle()\"><input type=\"submit\" value=\"Click here to toggle on/off the raw code.\"></form>''')"
   ]
  },
  {
   "cell_type": "markdown",
   "metadata": {},
   "source": [
    "<img style=\"float: left; margin-right:20px;\" src=\"https://raw.githubusercontent.com/ODiogoSilva/TriFusion-tutorials/master/tutorials/images/trifusion-icon-64.png\"><p style=\"font-weight:bold; font-size:30px; color:#37abc8; margin-bottom:50px;\">Creating and using active data set groups.</p>\n",
    "\n",
    "# What are active datasets\n",
    "\n",
    "Most operations in TriFusion can be applied to either the total data set (all files and taxa currently loaded) or custom made data sets, named _active_ datasets. Active data sets can be defined in TriFusion in order to quickly apply operations on different sets of files and/or taxa. The definition of data set groups can serve multiple purposes that are highly user-specific, such as:\n",
    "\n",
    "- creating output files with or without outgroup taxa;\n",
    "- separating data sets with nuclear and mitochondrial alignments;\n",
    "- create alignments with only specific taxa families;\n",
    "- removing problematic files/taxa from output;\n",
    "- etc.\n",
    "\n",
    "\n",
    "# How to define active datasets \n",
    "\n",
    "Active datasets can be created/modified in two main ways:\n",
    "\n",
    "- [Toggle file/taxa buttons in TriFusion's sidepanel](#Toggle-file/taxa-buttons-in-the-side-panel)\n",
    "    - [Mouse click toggling](#Mouse-click-toggling)\n",
    "    - [Import selection from file](#Import-selection-from-file)\n",
    "- [Create data set groups](#Create-dataset-groups)\n",
    "    - [Manual group creation inside TriFusion](#Manual-group-creation-inside-TriFusion)\n",
    "    - [Group creation from file](#Group-creation-from-file)\n",
    "\n",
    "Once created, the desired custom data set groups can be specified in the respective dropdown menus of the __Process__ and __Statistics__ modules.\n",
    "\n",
    "# Input data\n",
    "\n",
    "For this tutorial, we will use a medium sized data set of 614 genes and 48 taxa (which can be donwloaded [here](https://github.com/ODiogoSilva/TriFusion-tutorials/raw/master/tutorials/Datasets/Process/medium_protein_dataset/medium_protein_dataset.zip)). \n",
    "\n",
    "# How to use active data sets\n",
    "\n",
    "_Active_ data sets are selected by default. You can change to the _total_ dataset or to any user made dataset by clicking the correct group in the corresponding dropdown menu.\n",
    "\n",
    "Dropdown menu for data set selection on the __Process__ screen:\n",
    "\n",
    "<img width=\"90%\" src=\"https://raw.githubusercontent.com/ODiogoSilva/TriFusion-tutorials/master/tutorials/images/process_data_set_selection.png\">\n",
    "\n",
    "Dropdown menu for data set selection on the __Statisics__ screen:\n",
    "\n",
    "<img width=\"90%\" src=\"https://raw.githubusercontent.com/ODiogoSilva/TriFusion-tutorials/master/tutorials/images/statistics_data_set_selection.png\">\n",
    "\n",
    "\n",
    "# Toggle file/taxa buttons in the side panel\n",
    "\n",
    "## Mouse click toggling\n",
    "\n",
    "By default, when data is loaded into TriFusion all files/taxa are active. Therefore, the _total_ and _active_ datasets are the same. The quickest way to modify the _active_ dataset is by navigating to _Menu_ > _Open/View Data_ and toggle the corresponding file/taxa buttons. Shift + clicking is also supported to select multiple contiguous files/taxa.\n",
    "\n",
    "<figure>\n",
    "    <br>\n",
    "    <p style=\"font-size: 14px; text-align: center; font-weight: bold;\">Click figure to animate</p>\n",
    "    <img class=\"animation\" width=\"90%\" src=\"https://raw.githubusercontent.com/ODiogoSilva/TriFusion-tutorials/master/tutorials/images/dataset_toggle.png\" alt=\"Static Image\" data-alt=\"https://raw.githubusercontent.com/ODiogoSilva/TriFusion-tutorials/master/tutorials/gifs/process_tutorial2_mouse_toggle.gif\">\n",
    "</figure>\n",
    "\n",
    "Active files/taxa will appear with a blue background, while inactive buttons will have no background. A label below the button list displays how many files/taxa are currently active.\n",
    "\n",
    "## Import selection from file\n",
    "\n",
    "When dealing with a large number of files/taxa it may be more convenient to provide the _active_ dataset through a text file. This should be a single text file containing the names of the desired files/taxa in each line (the extension of the file is not important). You can create it yourself, or donwload it [here](https://github.com/ODiogoSilva/TriFusion-tutorials/raw/master/tutorials/Datasets/Process/medium_protein_dataset/taxa_list.txt)."
   ]
  },
  {
   "cell_type": "code",
   "execution_count": null,
   "metadata": {
    "collapsed": true
   },
   "outputs": [],
   "source": [
    "# Example of a text file for taxa selection in TriFusion\n",
    "Agaricus_bisporus\n",
    "Botrytis_cinerea\n",
    "Coniophora_puteana"
   ]
  },
  {
   "cell_type": "markdown",
   "metadata": {},
   "source": [
    "Providing this file to TriFusion will select these three taxa for the _active_ dataset. The file can be provided by clicking the \"__+__\" button at the bottom of the panel, and then \"__Select taxa names from .txt__\". \n",
    "\n",
    "<img width=\"90%\" src=\"https://raw.githubusercontent.com/ODiogoSilva/TriFusion-tutorials/master/tutorials/images/dataset_toggle_fromfile.png\">\n",
    "\n",
    "After loading the file, __ONLY__ the specified taxa will become active, regardless of the previous _active_ dataset. Names that do not match any of the files/taxa present in TriFusion will be ignored.\n",
    "\n",
    "<figure>\n",
    "    <br>\n",
    "    <p style=\"font-size: 14px; text-align: center; font-weight: bold;\">Click figure to animate</p>\n",
    "    <img class=\"animation\" width=\"90%\" src=\"https://raw.githubusercontent.com/ODiogoSilva/TriFusion-tutorials/master/tutorials/images/dataset_selected_after_file.png\" alt=\"Static Image\" data-alt=\"https://raw.githubusercontent.com/ODiogoSilva/TriFusion-tutorials/master/tutorials/gifs/process_tutorial2_select_from_file.gif\">\n",
    "</figure>\n",
    "\n",
    "If you wish to save the active dataset to a new file so that you can use it later, click the \"__+__\" button and then \"__Export selected taxa names to .txt__\".\n",
    "\n",
    "# Create dataset groups\n",
    "\n",
    "When the workflow requires the application of operations to multiple taxa/files datasets, it is more convenient to define all dataset groups and then use the dropdown menus to select the desired _active_ data set. Dataset groups can be defined in TriFusion by navigating to _Menu_ > _Dataset Groups_.\n",
    "\n",
    "<img width=\"90%\" src=\"https://raw.githubusercontent.com/ODiogoSilva/TriFusion-tutorials/master/tutorials/images/dataset_creationpanel.png\">\n",
    "\n",
    "File and taxon groups are sorted into two tabs, like in the _Open/View Data_ panel, and clicking the __Set new [file|taxa] group__ button will start the creation of the corresponding group. \n",
    "\n",
    "<img width=\"90%\" src=\"https://raw.githubusercontent.com/ODiogoSilva/TriFusion-tutorials/master/tutorials/images/dataset_triage.png\">\n",
    "\n",
    "Here you can choose to create the dataset group either manually in TriFusion, or by providing the names of the files/taxa in a text file.\n",
    "\n",
    "\n",
    "## Manual group creation inside TriFusion\n",
    "\n",
    "__WARNING:__ This option is discourage for very large data sets (~200 itens). In these cases, use the [group creation from file](#Group-creation-from-file) option.\n",
    "\n",
    "Let's create a new taxa group, by clicking the _Taxa_ tab and then the __Set new taxa group__ button. Here, groups can be created by selecting the desired files/taxa from the _All [files|taxa]_ column and using the arrow buttons to move them to the _Selected taxa_ column. Once the group is complete, give it a unique name and the group is ready to be defined. If you wish to create multiple groups in one sitting, click the __Apply__ button to create the group but remain in the dialog for further group definition.\n",
    "\n",
    "<figure>\n",
    "    <br>\n",
    "    <p style=\"font-size: 14px; text-align: center; font-weight: bold;\">Click figure to animate</p>\n",
    "    <img class=\"animation\" width=\"90%\" src=\"https://raw.githubusercontent.com/ODiogoSilva/TriFusion-tutorials/master/tutorials/images/dataset_manual_creation.png\" alt=\"Static Image\" data-alt=\"https://raw.githubusercontent.com/ODiogoSilva/TriFusion-tutorials/master/tutorials/gifs/process_tutorial2_manual_selection.gif\">\n",
    "</figure>\n",
    "\n",
    "Previously created groups will be listed under the _Created groups_ column, where they can be selected (this will move the group members to the _Selected taxa_ column) or removed. \n",
    "\n",
    "## Group creation from file\n",
    "\n",
    "Here, you will only have to provide a text file with the names of the files/taxa you wish to select for the current group. The text file is the same as described in the [import selection from file](#Import-selection-from-file) section. \n"
   ]
  },
  {
   "cell_type": "code",
   "execution_count": null,
   "metadata": {
    "collapsed": true
   },
   "outputs": [],
   "source": [
    "# Example of a text file for taxa selection in TriFusion\n",
    "Agaricus_bisporus\n",
    "Botrytis_cinerea\n",
    "Coniophora_puteana"
   ]
  },
  {
   "cell_type": "markdown",
   "metadata": {},
   "source": [
    "After providing the file with the group members list, specify a unique name for the new data set group, and that's it!\n",
    "\n",
    "<img width=\"90%\" src=\"https://raw.githubusercontent.com/ODiogoSilva/TriFusion-tutorials/master/tutorials/images/dataset_file_creation.png\">\n",
    "\n",
    "<figure>\n",
    "    <br>\n",
    "    <p style=\"font-size: 14px; text-align: center; font-weight: bold;\">Click figure to animate</p>\n",
    "    <img class=\"animation\" width=\"90%\" src=\"https://raw.githubusercontent.com/ODiogoSilva/TriFusion-tutorials/master/tutorials/images/dataset_name_specification.png\" alt=\"Static Image\" data-alt=\"https://raw.githubusercontent.com/ODiogoSilva/TriFusion-tutorials/master/tutorials/gifs/process_tutorial2_file_selection.gif\">\n",
    "</figure>\n"
   ]
  },
  {
   "cell_type": "code",
   "execution_count": 3,
   "metadata": {
    "collapsed": false
   },
   "outputs": [
    {
     "data": {
      "application/javascript": [
       "var getGif = function() {\n",
       "    var gif = [];\n",
       "    $('.animation').each(function() {\n",
       "        console.log(\"here\")\n",
       "        var data = $(this).data('alt');\n",
       "        gif.push(data);\n",
       "    });\n",
       "    return gif;\n",
       "}\n",
       "var gif = getGif();\n",
       "console.log(gif)\n",
       "\n",
       "//Preload all the GIF.\n",
       "var image = [];\n",
       "  \n",
       "$.each(gif, function(index) {\n",
       "    image[index]     = new Image();\n",
       "    image[index].src = gif[index];\n",
       "    });\n",
       "\n",
       "$('figure').on('click', function() {\n",
       "     \n",
       "    var $this   = $(this),\n",
       "    $index  = $this.index(),\n",
       "    $img    = $this.children('img'),\n",
       "    $imgSrc = $img.attr('src'),\n",
       "    $imgAlt = $img.attr('data-alt'),\n",
       "    $imgExt = $imgAlt.split('.');\n",
       "           \n",
       "    if($imgExt[1] === 'gif') {\n",
       "        $img.attr('src', $img.data('alt')).attr('data-alt', $imgSrc);\n",
       "    } else {\n",
       "        $img.attr('src', $imgAlt).attr('data-alt', $img.data('alt'));\n",
       "    } \n",
       "});"
      ],
      "text/plain": [
       "<IPython.core.display.Javascript object>"
      ]
     },
     "metadata": {},
     "output_type": "display_data"
    }
   ],
   "source": [
    "%%javascript\n",
    "var getGif = function() {\n",
    "    var gif = [];\n",
    "    $('.animation').each(function() {\n",
    "        console.log(\"here\")\n",
    "        var data = $(this).data('alt');\n",
    "        gif.push(data);\n",
    "    });\n",
    "    return gif;\n",
    "}\n",
    "var gif = getGif();\n",
    "console.log(gif)\n",
    "\n",
    "//Preload all the GIF.\n",
    "var image = [];\n",
    "  \n",
    "$.each(gif, function(index) {\n",
    "    image[index]     = new Image();\n",
    "    image[index].src = gif[index];\n",
    "    });\n",
    "\n",
    "$('figure').on('click', function() {\n",
    "     \n",
    "    var $this   = $(this),\n",
    "    $index  = $this.index(),\n",
    "    $img    = $this.children('img'),\n",
    "    $imgSrc = $img.attr('src'),\n",
    "    $imgAlt = $img.attr('data-alt'),\n",
    "    $imgExt = $imgAlt.split('.');\n",
    "           \n",
    "    if($imgExt[1] === 'gif') {\n",
    "        $img.attr('src', $img.data('alt')).attr('data-alt', $imgSrc);\n",
    "    } else {\n",
    "        $img.attr('src', $imgAlt).attr('data-alt', $img.data('alt'));\n",
    "    } \n",
    "});"
   ]
  }
 ],
 "metadata": {
  "kernelspec": {
   "display_name": "Python 3",
   "language": "python",
   "name": "python3"
  },
  "language_info": {
   "codemirror_mode": {
    "name": "ipython",
    "version": 3
   },
   "file_extension": ".py",
   "mimetype": "text/x-python",
   "name": "python",
   "nbconvert_exporter": "python",
   "pygments_lexer": "ipython3",
   "version": "3.5.2"
  }
 },
 "nbformat": 4,
 "nbformat_minor": 1
}
