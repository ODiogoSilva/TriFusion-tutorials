{
 "cells": [
  {
   "cell_type": "markdown",
   "metadata": {},
   "source": [
    "    <img style=\"float: left; margin-right:20px;\" src=\"https://raw.githubusercontent.com/ODiogoSilva/TriFusion-tutorials/master/tutorials/images/trifusion-icon-64.png\"><p style=\"font-weight:bold; font-size:22px; color:#37abc8; margin-bottom:50px;\">Installation of third party software (USEARCH and MCL)</p>\n",
    "\n",
    "The [USEARCH](http://www.drive5.com/usearch/) and [MCL](http://micans.org/mcl/) programs are required to perform TriFusion's __Orthology Search__ operation. While MCL is already distributed with TriFusion and should work out of the box, the licensing of USEARCH does not allow it to be bundled. However, everything can be up and running with just a few simple steps.\n",
    "\n",
    "If you see a warning like this:\n",
    "\n",
    "![USEARCH warning](/home/diogo/Diogo/Science/Scripts/packages/TriFusion-tutorials/tutorials/images/usearch_warning_box.png)\n",
    "\n",
    "It means that either USEARCH or MCL need additional configuration steps, which are described when clicking the \"Fix it\" button.\n",
    "\n",
    "## Downloading and configuring USEARCH\n",
    "\n",
    "1. Download the latest USEARCH binary for your corresponding operating system [here](http://www.drive5.com/usearch/download.html). \n",
    "\n",
    "2. In TriFusion click the \"Fix it\" button, and then the \"Search USEARCH executable\" button.\n",
    "\n",
    "    ![USearch Fix Dialog](/home/diogo/Diogo/Science/Scripts/packages/TriFusion-tutorials/tutorials/images/usearch_file_search.png)\n",
    "\n",
    "3. Search for the downloaded executable file and provide it to TriFusion.\n",
    "\n",
    "    ![USearch file search](/home/diogo/Diogo/Science/Scripts/packages/TriFusion-tutorials/tutorials/images/usearch_save_file.png)\n",
    "\n",
    "4. When a valid USEARCH binary executable is provided, the warning text should now say: \"USEARCH is installed and reachable\". You are good to go.\n",
    "\n",
    "## Downloading and configuring MCL\n",
    "\n",
    "In most distributions, the MCL binary is already provided and should work out of the box. Nevertheless, if you get the warning message for MCL as well, follow these simple steps:\n",
    "\n",
    "1. Download the MCL binary either from the mcl [website](http://micans.org/mcl/) (Unix systems) or from [TriFusion's repository](https://github.com/ODiogoSilva/TriFusion/tree/master/trifusion/data/resources/mcl) (Unix and Windows). When downloading from the TriFusion repository, make sure you download the appropriate version for your operating system. In the case of Windows, make sure you download both the mcl64.exe and cygwin.dll files.\n",
    "\n",
    "2. In TriFusion click the \"Fix it\" button, and then the \"Search MCL executable\" button.\n",
    "\n",
    "3. Search for the downloaded executable file and provide it to TriFusion.\n",
    "\n",
    "4. When a valid MCL binary executable is provided, the warning text should now say: \"MCL is installed and reachable\". You are good to go."
   ]
  }
 ],
 "metadata": {
  "kernelspec": {
   "display_name": "Python 3",
   "language": "python",
   "name": "python3"
  },
  "language_info": {
   "codemirror_mode": {
    "name": "ipython",
    "version": 3
   },
   "file_extension": ".py",
   "mimetype": "text/x-python",
   "name": "python",
   "nbconvert_exporter": "python",
   "pygments_lexer": "ipython3",
   "version": "3.5.2"
  }
 },
 "nbformat": 4,
 "nbformat_minor": 1
}
